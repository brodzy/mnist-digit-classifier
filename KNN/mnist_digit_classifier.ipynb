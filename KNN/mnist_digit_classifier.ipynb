{
  "nbformat": 4,
  "nbformat_minor": 0,
  "metadata": {
    "colab": {
      "provenance": []
    },
    "kernelspec": {
      "name": "python3",
      "display_name": "Python 3"
    },
    "language_info": {
      "name": "python"
    }
  },
  "cells": [
    {
      "cell_type": "code",
      "execution_count": 1,
      "metadata": {
        "colab": {
          "base_uri": "https://localhost:8080/"
        },
        "id": "-6ocVDX_-gWq",
        "outputId": "1991f2f0-3cb8-4eb4-c8fa-36e4bade7a35"
      },
      "outputs": [
        {
          "output_type": "stream",
          "name": "stdout",
          "text": [
            "--2023-01-10 18:41:47--  https://github.com/daniel-e/mnist_octave/raw/master/mnist.mat\n",
            "Resolving github.com (github.com)... 140.82.121.4\n",
            "Connecting to github.com (github.com)|140.82.121.4|:443... connected.\n",
            "HTTP request sent, awaiting response... 302 Found\n",
            "Location: https://raw.githubusercontent.com/daniel-e/mnist_octave/master/mnist.mat [following]\n",
            "--2023-01-10 18:41:48--  https://raw.githubusercontent.com/daniel-e/mnist_octave/master/mnist.mat\n",
            "Resolving raw.githubusercontent.com (raw.githubusercontent.com)... 185.199.108.133, 185.199.110.133, 185.199.109.133, ...\n",
            "Connecting to raw.githubusercontent.com (raw.githubusercontent.com)|185.199.108.133|:443... connected.\n",
            "HTTP request sent, awaiting response... 200 OK\n",
            "Length: 14278089 (14M) [application/octet-stream]\n",
            "Saving to: ‘mnist.mat’\n",
            "\n",
            "mnist.mat           100%[===================>]  13.62M  --.-KB/s    in 0.05s   \n",
            "\n",
            "2023-01-10 18:41:48 (272 MB/s) - ‘mnist.mat’ saved [14278089/14278089]\n",
            "\n"
          ]
        }
      ],
      "source": [
        "import scipy.io as sio\n",
        "import numpy as np\n",
        "import matplotlib.pyplot as plt\n",
        "import collections\n",
        "from google.colab import files\n",
        "import sklearn # Only using to shuffle data\n",
        "\n",
        "# Load data\n",
        "!wget https://github.com/daniel-e/mnist_octave/raw/master/mnist.mat\n",
        "data = sio.loadmat('mnist.mat')"
      ]
    },
    {
      "cell_type": "code",
      "source": [
        "# Avoiding 0 values which could prevent weight updates\n",
        "fac = 0.99 / 255\n",
        "\n",
        "X_train = data['trainX'] * fac + 0.01\n",
        "Y_train = data['trainY'] \n",
        "\n",
        "X_test = data['testX']  * fac + 0.01\n",
        "Y_test = data['testY']\n",
        "\n",
        "# Flatten ndarray\n",
        "Y_test = Y_test.reshape(len(Y_test[0]))\n",
        "Y_train = Y_train.reshape(len(Y_train[0]))  \n",
        "\n",
        "# Used for Figure 1, with respect to num of training samples, fixed number of 200 testing samples\n",
        "#X_train = X_train[:5000]\n",
        "#Y_train = Y_train[:5000]\n",
        "\n",
        "# Used for Figure 2, with respect to num of testing samples, fixed number of 500 training samples\n",
        "#X_train = X_train[0:500]\n",
        "#Y_train = Y_train[0:500]\n",
        "\n",
        "# Shuffle data in unison\n",
        "X_train , Y_train = sklearn.utils.shuffle(X_train , Y_train)\n",
        "X_test, Y_test = sklearn.utils.shuffle(X_test, Y_test)\n",
        "\n",
        "print(\"The shape of X_train is: \" + str(X_train.shape))\n",
        "print(\"The shape of Y_train is: \" + str(Y_train.shape))\n",
        "print(\"The shape of X_test is: \" + str(X_test.shape))\n",
        "print(\"The shape of Y_test is: \" + str(Y_test.shape))\n",
        "\n",
        "# Used to see the real data directly from data set\n",
        "def drawImg(sample):\n",
        "    fig, ax = plt.subplots(1)\n",
        "    ax.imshow(np.reshape(sample, (28, 28)))\n",
        "\n",
        "drawImg(X_train[0])\n",
        "print(\"\\nThe label at index 0 is \" + str(Y_train[0]) + \" and the image shows \")"
      ],
      "metadata": {
        "colab": {
          "base_uri": "https://localhost:8080/",
          "height": 369
        },
        "id": "t3b68ON4KFL6",
        "outputId": "ed123ae1-2b2c-473c-a2cc-6b1e53540e87"
      },
      "execution_count": 2,
      "outputs": [
        {
          "output_type": "stream",
          "name": "stdout",
          "text": [
            "The shape of X_train is: (60000, 784)\n",
            "The shape of Y_train is: (60000,)\n",
            "The shape of X_test is: (10000, 784)\n",
            "The shape of Y_test is: (10000,)\n",
            "\n",
            "The label at index 0 is 7 and the image shows \n"
          ]
        },
        {
          "output_type": "display_data",
          "data": {
            "text/plain": [
              "<Figure size 432x288 with 1 Axes>"
            ],
            "image/png": "[encoded data removed]"
          },
          "metadata": {
            "needs_background": "light"
          }
        }
      ]
    },
    {
      "cell_type": "code",
      "source": [
        "# Calculating Euclidean Distance\n",
        "def distance(x,y):\n",
        "    return np.sqrt(np.sum(np.square(x-y)))\n",
        "\n",
        "# Applying K-nearest Neighbours\n",
        "def knn(X_train, Y_train, X_test, k):\n",
        "    # List of distances between test image and training images\n",
        "    vals = []\n",
        "    len_train = X_train.shape[0]\n",
        "    \n",
        "    for i in range(len_train):\n",
        "      d = distance(X_test, X_train[i])\n",
        "      vals.append((d, Y_train[i]))\n",
        "        \n",
        "    vals = sorted(vals)\n",
        "    \n",
        "    # Find the nearest first k points\n",
        "    vals = vals[:k]\n",
        "    vals = np.array(vals)\n",
        "    \n",
        "    # Find the maximum one from the index\n",
        "    new_vals = np.unique(vals[:,1],return_counts = True)\n",
        "    index = new_vals[1].argmax() \n",
        "    pred = new_vals[0][index]\n",
        "\n",
        "    return pred"
      ],
      "metadata": {
        "id": "RDT-Di7b9QJn"
      },
      "execution_count": 3,
      "outputs": []
    },
    {
      "cell_type": "code",
      "source": [
        "# Testing prediction\n",
        "pred = int(knn(X_train,Y_train, X_test[0], 5))\n",
        "print(\"Expected: \" + str(Y_test[0]))\n",
        "print(\"Actual: \" + str(pred))"
      ],
      "metadata": {
        "colab": {
          "base_uri": "https://localhost:8080/"
        },
        "id": "eiVX0k9-jlwe",
        "outputId": "7282e497-2015-4848-8064-e2e3bc06c192"
      },
      "execution_count": 4,
      "outputs": [
        {
          "output_type": "stream",
          "name": "stdout",
          "text": [
            "Expected: 7\n",
            "Actual: 9\n"
          ]
        }
      ]
    },
    {
      "cell_type": "code",
      "source": [
        "# Calculating the accuracy of our model with the first N test values\n",
        "N = 200 # Num of test samples\n",
        "\n",
        "predictions = []\n",
        "errors = dict([(0, 0), (1, 0), (2, 0), (3, 0), (4, 0), (5, 0), (6, 0), (7, 0), (8, 0), (9, 0)])\n",
        "\n",
        "def accuracy(X_train, Y_train, N, k):\n",
        "    correct = 0\n",
        "    incorrect = 0\n",
        "\n",
        "    # Loop through test set and compare labels\n",
        "    for i in range(N):\n",
        "        pred = int(knn(X_train,Y_train, X_test[i], k))\n",
        "        predictions.append(pred)\n",
        "\n",
        "        #print(\"Expected: \" + str(Y_test[i]))\n",
        "        #print(\"Actual: \" + str(pred))\n",
        "\n",
        "        if pred == Y_test[i]:\n",
        "            correct += 1\n",
        "        else:\n",
        "            incorrect += 1\n",
        "            errors[pred] += 1\n",
        "\n",
        "    accuracy = (correct/float(N))*100\n",
        "\n",
        "    print(\"\\nCorrect: \" + str(correct))\n",
        "    print(\"Incorrect: \" + str(incorrect))  \n",
        "    print(\"Accuracy: \" + str(accuracy) + \"%\")\n",
        "\n",
        "    return accuracy\n",
        "\n",
        "accuracy(X_train, Y_train, N, 5)\n",
        "Y_predict = np.array(predictions)"
      ],
      "metadata": {
        "colab": {
          "base_uri": "https://localhost:8080/"
        },
        "id": "op5h20OdXhO1",
        "outputId": "234a26ca-c7c0-4ea3-9e6e-30db50f4f368"
      },
      "execution_count": 5,
      "outputs": [
        {
          "output_type": "stream",
          "name": "stdout",
          "text": [
            "\n",
            "Correct: 193\n",
            "Incorrect: 7\n",
            "Accuracy: 96.5%\n"
          ]
        }
      ]
    },
    {
      "cell_type": "code",
      "source": [
        "# Figure 1, Compute accuracy with respect to the number of training samples. Test Samples = 200, Various training samples used on each run\n",
        "\n",
        "train_samples = np.array([500, 1000, 1500, 2000, 2500, 3000, 3500, 4000, 4500, 5000])\n",
        "accuracy1 = np.array([76.50, 86.00, 86.00, 89.00, 90.00, 94.50, 91.00, 93.00, 94.00, 93.50])\n",
        "\n",
        "# Graph\n",
        "plt.title('Euclidean Distance')\n",
        "plt.xlabel('Training Samples')\n",
        "plt.ylabel('Accuracy')\n",
        "plt.plot(train_samples, accuracy1, 'b')\n",
        "plt.savefig('respect_train.png', dpi=300)"
      ],
      "metadata": {
        "colab": {
          "base_uri": "https://localhost:8080/",
          "height": 295
        },
        "id": "zHR94YBT2CEp",
        "outputId": "3000148d-567d-4fa0-eb26-3dd07cf99ef6"
      },
      "execution_count": 6,
      "outputs": [
        {
          "output_type": "display_data",
          "data": {
            "text/plain": [
              "<Figure size 432x288 with 1 Axes>"
            ],
            "image/png": "[encoded data removed]"
          },
          "metadata": {
            "needs_background": "light"
          }
        }
      ]
    },
    {
      "cell_type": "code",
      "source": [
        "# Figure 2, Compute accuracy with respect to the number of testing samples. Training Samples = 500, Various testing samples used on each run\n",
        "\n",
        "test_samples = np.array([500, 1000, 1500, 2000, 2500, 3000, 3500, 4000, 4500, 5000])\n",
        "accuracy2 = np.array([81.00, 79.80, 79.6, 78.90, 79.36, 79.7, 79.51, 79.62, 79.72, 79.74])\n",
        "\n",
        "# Graph\n",
        "plt.title('Euclidean Distance')\n",
        "plt.xlabel('Testing Samples')\n",
        "plt.ylabel('Accuracy')\n",
        "plt.plot(test_samples, accuracy2, 'b')\n",
        "plt.savefig('respect_test.png', dpi=300)"
      ],
      "metadata": {
        "colab": {
          "base_uri": "https://localhost:8080/",
          "height": 295
        },
        "id": "Dsg-ldey3c3H",
        "outputId": "231d04d1-a38c-41ac-ffe3-07df0ea1ec18"
      },
      "execution_count": 7,
      "outputs": [
        {
          "output_type": "display_data",
          "data": {
            "text/plain": [
              "<Figure size 432x288 with 1 Axes>"
            ],
            "image/png": "[encoded data removed]"
          },
          "metadata": {
            "needs_background": "light"
          }
        }
      ]
    },
    {
      "cell_type": "code",
      "source": [
        "# Figure 3, Compute the confusion matrix without the main diagonal and normalize such that it represents a probability distribution.\n",
        "def confusion_matrix(actual, predicted):\n",
        "    # Extract digits\n",
        "    digits = np.unique(actual)\n",
        "\n",
        "    # Initalize confusion matrix\n",
        "    cm = np.zeros((len(digits), len(digits)))\n",
        "\n",
        "    # Loop across the different combinations of actual / predicted digits\n",
        "    for i in range(len(digits)):\n",
        "        for j in range(len(digits)):\n",
        "\n",
        "           # Count num of instances in each combination of actual / predicted digits\n",
        "           cm[i, j] = np.sum((actual == digits[i]) & (predicted == digits[j]))\n",
        "\n",
        "    return cm\n",
        "\n",
        "cm = confusion_matrix(Y_test[0:N], Y_predict)\n",
        "print(cm)\n",
        "\n",
        "# Normalize to represent probability distribution\n",
        "row_sums = cm.sum(axis=1, keepdims=True)\n",
        "norm_cm = cm / row_sums\n",
        "\n",
        "print(norm_cm)\n",
        "\n",
        "# Graph\n",
        "np.fill_diagonal(norm_cm, 0)\n",
        "plt.figure(figsize=(9,9))\n",
        "plt.imshow(norm_cm)\n",
        "plt.title('Confusion Matrix as Distribution')\n",
        "plt.xticks(np.arange(0, 10, 2))\n",
        "plt.yticks(np.arange(0, 10, 2))\n",
        "plt.ylabel('Predicted')\n",
        "plt.xlabel('Actual')\n",
        "plt.colorbar()\n",
        "plt.savefig('conf_matrix.png')"
      ],
      "metadata": {
        "colab": {
          "base_uri": "https://localhost:8080/",
          "height": 1000
        },
        "id": "1vMEp8aCbTCB",
        "outputId": "dc3d06b3-66fe-448f-a419-cebb714c135c"
      },
      "execution_count": 8,
      "outputs": [
        {
          "output_type": "stream",
          "name": "stdout",
          "text": [
            "[[17.  0.  0.  0.  0.  0.  0.  0.  0.  0.]\n",
            " [ 0. 23.  0.  0.  0.  0.  0.  0.  0.  0.]\n",
            " [ 0.  1. 19.  0.  0.  0.  0.  0.  0.  0.]\n",
            " [ 0.  0.  0. 11.  0.  0.  0.  0.  0.  0.]\n",
            " [ 0.  0.  0.  0. 22.  0.  0.  0.  0.  0.]\n",
            " [ 0.  0.  0.  0.  0. 21.  0.  0.  0.  0.]\n",
            " [ 0.  0.  0.  0.  0.  0. 18.  0.  0.  0.]\n",
            " [ 0.  1.  0.  0.  0.  0.  0. 24.  0.  1.]\n",
            " [ 0.  0.  1.  0.  1.  1.  0.  0. 18.  0.]\n",
            " [ 0.  1.  0.  0.  0.  0.  0.  0.  0. 20.]]\n",
            "[[1.         0.         0.         0.         0.         0.\n",
            "  0.         0.         0.         0.        ]\n",
            " [0.         1.         0.         0.         0.         0.\n",
            "  0.         0.         0.         0.        ]\n",
            " [0.         0.05       0.95       0.         0.         0.\n",
            "  0.         0.         0.         0.        ]\n",
            " [0.         0.         0.         1.         0.         0.\n",
            "  0.         0.         0.         0.        ]\n",
            " [0.         0.         0.         0.         1.         0.\n",
            "  0.         0.         0.         0.        ]\n",
            " [0.         0.         0.         0.         0.         1.\n",
            "  0.         0.         0.         0.        ]\n",
            " [0.         0.         0.         0.         0.         0.\n",
            "  1.         0.         0.         0.        ]\n",
            " [0.         0.03846154 0.         0.         0.         0.\n",
            "  0.         0.92307692 0.         0.03846154]\n",
            " [0.         0.         0.04761905 0.         0.04761905 0.04761905\n",
            "  0.         0.         0.85714286 0.        ]\n",
            " [0.         0.04761905 0.         0.         0.         0.\n",
            "  0.         0.         0.         0.95238095]]\n"
          ]
        },
        {
          "output_type": "display_data",
          "data": {
            "text/plain": [
              "<Figure size 648x648 with 2 Axes>"
            ],
            "image/png": "[encoded data removed]"
          },
          "metadata": {
            "needs_background": "light"
          }
        }
      ]
    },
    {
      "cell_type": "code",
      "source": [
        "# Figure 4, Compute likelihood of confusion for each digit.\n",
        "print(errors)\n",
        "keys = errors.keys()\n",
        "vals = errors.values()\n",
        "prob = np.divide(list(vals), sum(vals)) # Calculating probability of misclassification\n",
        "\n",
        "\n",
        "# Graph\n",
        "fig, ax = plt.subplots(figsize = (10, 5))\n",
        "ax.bar(keys, prob, width=0.8, align='center')\n",
        "ax.set(title='Likelihood of Confusion', xlabel='Digit', ylabel='Probability of Misclassification')\n",
        "plt.savefig('per_digit_conf.png')\n",
        "plt.show()"
      ],
      "metadata": {
        "id": "JoNzBb9-H5hZ",
        "colab": {
          "base_uri": "https://localhost:8080/",
          "height": 367
        },
        "outputId": "244e985f-4a36-46f4-861c-88757e925ffa"
      },
      "execution_count": 9,
      "outputs": [
        {
          "output_type": "stream",
          "name": "stdout",
          "text": [
            "{0: 0, 1: 3, 2: 1, 3: 0, 4: 1, 5: 1, 6: 0, 7: 0, 8: 0, 9: 1}\n"
          ]
        },
        {
          "output_type": "display_data",
          "data": {
            "text/plain": [
              "<Figure size 720x360 with 1 Axes>"
            ],
            "image/png": "[encoded data removed]"
          },
          "metadata": {
            "needs_background": "light"
          }
        }
      ]
    },
    {
      "cell_type": "code",
      "source": [
        "# Extra Credit\n",
        "score = []\n",
        "for k in range(1, 21):\n",
        "  print('K =', k)\n",
        "  acc = float(accuracy(X_train, Y_train, N, k))\n",
        "  score.append(acc)\n",
        "  print(\"\\n---------------\\n\")"
      ],
      "metadata": {
        "colab": {
          "base_uri": "https://localhost:8080/"
        },
        "id": "5e2sUNsOkK5h",
        "outputId": "74964bcb-9cde-4293-b488-78da9853d037"
      },
      "execution_count": 10,
      "outputs": [
        {
          "output_type": "stream",
          "name": "stdout",
          "text": [
            "K = 1\n",
            "\n",
            "Correct: 191\n",
            "Incorrect: 9\n",
            "Accuracy: 95.5%\n",
            "\n",
            "---------------\n",
            "\n",
            "K = 2\n",
            "\n",
            "Correct: 190\n",
            "Incorrect: 10\n",
            "Accuracy: 95.0%\n",
            "\n",
            "---------------\n",
            "\n",
            "K = 3\n",
            "\n",
            "Correct: 190\n",
            "Incorrect: 10\n",
            "Accuracy: 95.0%\n",
            "\n",
            "---------------\n",
            "\n",
            "K = 4\n",
            "\n",
            "Correct: 192\n",
            "Incorrect: 8\n",
            "Accuracy: 96.0%\n",
            "\n",
            "---------------\n",
            "\n",
            "K = 5\n",
            "\n",
            "Correct: 193\n",
            "Incorrect: 7\n",
            "Accuracy: 96.5%\n",
            "\n",
            "---------------\n",
            "\n",
            "K = 6\n",
            "\n",
            "Correct: 191\n",
            "Incorrect: 9\n",
            "Accuracy: 95.5%\n",
            "\n",
            "---------------\n",
            "\n",
            "K = 7\n",
            "\n",
            "Correct: 192\n",
            "Incorrect: 8\n",
            "Accuracy: 96.0%\n",
            "\n",
            "---------------\n",
            "\n",
            "K = 8\n",
            "\n",
            "Correct: 192\n",
            "Incorrect: 8\n",
            "Accuracy: 96.0%\n",
            "\n",
            "---------------\n",
            "\n",
            "K = 9\n",
            "\n",
            "Correct: 191\n",
            "Incorrect: 9\n",
            "Accuracy: 95.5%\n",
            "\n",
            "---------------\n",
            "\n",
            "K = 10\n",
            "\n",
            "Correct: 191\n",
            "Incorrect: 9\n",
            "Accuracy: 95.5%\n",
            "\n",
            "---------------\n",
            "\n",
            "K = 11\n",
            "\n",
            "Correct: 190\n",
            "Incorrect: 10\n",
            "Accuracy: 95.0%\n",
            "\n",
            "---------------\n",
            "\n",
            "K = 12\n",
            "\n",
            "Correct: 192\n",
            "Incorrect: 8\n",
            "Accuracy: 96.0%\n",
            "\n",
            "---------------\n",
            "\n",
            "K = 13\n",
            "\n",
            "Correct: 190\n",
            "Incorrect: 10\n",
            "Accuracy: 95.0%\n",
            "\n",
            "---------------\n",
            "\n",
            "K = 14\n",
            "\n",
            "Correct: 191\n",
            "Incorrect: 9\n",
            "Accuracy: 95.5%\n",
            "\n",
            "---------------\n",
            "\n",
            "K = 15\n",
            "\n",
            "Correct: 190\n",
            "Incorrect: 10\n",
            "Accuracy: 95.0%\n",
            "\n",
            "---------------\n",
            "\n",
            "K = 16\n",
            "\n",
            "Correct: 190\n",
            "Incorrect: 10\n",
            "Accuracy: 95.0%\n",
            "\n",
            "---------------\n",
            "\n",
            "K = 17\n",
            "\n",
            "Correct: 190\n",
            "Incorrect: 10\n",
            "Accuracy: 95.0%\n",
            "\n",
            "---------------\n",
            "\n",
            "K = 18\n",
            "\n",
            "Correct: 192\n",
            "Incorrect: 8\n",
            "Accuracy: 96.0%\n",
            "\n",
            "---------------\n",
            "\n",
            "K = 19\n",
            "\n",
            "Correct: 191\n",
            "Incorrect: 9\n",
            "Accuracy: 95.5%\n",
            "\n",
            "---------------\n",
            "\n",
            "K = 20\n",
            "\n",
            "Correct: 191\n",
            "Incorrect: 9\n",
            "Accuracy: 95.5%\n",
            "\n",
            "---------------\n",
            "\n"
          ]
        }
      ]
    },
    {
      "cell_type": "code",
      "source": [
        "# Extra Credit Graph\n",
        "plt.plot(range(1, 21), score)\n",
        "plt.title('Determining the Optimal Number of Neighbors')\n",
        "plt.xlabel('K - Number of Neighbors')\n",
        "plt.ylabel('Accuracy')\n",
        "plt.savefig('extra_credit.png', dpi=300)\n",
        "plt.show()\n",
        "\n",
        "np.mean(score)"
      ],
      "metadata": {
        "id": "dbadDsT6kOcL",
        "colab": {
          "base_uri": "https://localhost:8080/",
          "height": 312
        },
        "outputId": "1f240509-030a-4927-fe40-5144a81cbd9f"
      },
      "execution_count": 11,
      "outputs": [
        {
          "output_type": "display_data",
          "data": {
            "text/plain": [
              "<Figure size 432x288 with 1 Axes>"
            ],
            "image/png": "[encoded data removed]"
          },
          "metadata": {
            "needs_background": "light"
          }
        },
        {
          "output_type": "execute_result",
          "data": {
            "text/plain": [
              "95.5"
            ]
          },
          "metadata": {},
          "execution_count": 11
        }
      ]
    }
  ]
}