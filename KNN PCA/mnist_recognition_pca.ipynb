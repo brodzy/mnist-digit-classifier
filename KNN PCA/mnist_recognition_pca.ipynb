{
  "nbformat": 4,
  "nbformat_minor": 0,
  "metadata": {
    "colab": {
      "provenance": []
    },
    "kernelspec": {
      "name": "python3",
      "display_name": "Python 3"
    },
    "language_info": {
      "name": "python"
    }
  },
  "cells": [
    {
      "cell_type": "code",
      "source": [
        "import scipy.io as sio\n",
        "import numpy as np\n",
        "import matplotlib.pyplot as plt\n",
        "import collections\n",
        "from google.colab import files\n",
        "import sklearn # Only using to shuffle data\n",
        "\n",
        "# Load data\n",
        "!wget https://github.com/daniel-e/mnist_octave/raw/master/mnist.mat\n",
        "data = sio.loadmat('mnist.mat')"
      ],
      "metadata": {
        "colab": {
          "base_uri": "https://localhost:8080/"
        },
        "id": "qmgJJXbefdAt",
        "outputId": "e3773e06-642a-465e-a8cc-83c622743f35"
      },
      "execution_count": 215,
      "outputs": [
        {
          "output_type": "stream",
          "name": "stdout",
          "text": [
            "--2022-11-20 04:35:58--  https://github.com/daniel-e/mnist_octave/raw/master/mnist.mat\n",
            "Resolving github.com (github.com)... 140.82.121.3\n",
            "Connecting to github.com (github.com)|140.82.121.3|:443... connected.\n",
            "HTTP request sent, awaiting response... 302 Found\n",
            "Location: https://raw.githubusercontent.com/daniel-e/mnist_octave/master/mnist.mat [following]\n",
            "--2022-11-20 04:35:59--  https://raw.githubusercontent.com/daniel-e/mnist_octave/master/mnist.mat\n",
            "Resolving raw.githubusercontent.com (raw.githubusercontent.com)... 185.199.108.133, 185.199.109.133, 185.199.110.133, ...\n",
            "Connecting to raw.githubusercontent.com (raw.githubusercontent.com)|185.199.108.133|:443... connected.\n",
            "HTTP request sent, awaiting response... 200 OK\n",
            "Length: 14278089 (14M) [application/octet-stream]\n",
            "Saving to: ‘mnist.mat.20’\n",
            "\n",
            "mnist.mat.20        100%[===================>]  13.62M  --.-KB/s    in 0.04s   \n",
            "\n",
            "2022-11-20 04:35:59 (335 MB/s) - ‘mnist.mat.20’ saved [14278089/14278089]\n",
            "\n"
          ]
        }
      ]
    },
    {
      "cell_type": "code",
      "source": [
        "# Avoiding 0 values which could prevent weight updates\n",
        "fac = 0.99 / 255\n",
        "X_train = data['trainX'][:10000] * fac + 0.01\n",
        "Y_train = data['trainY'][0][:10000]\n",
        "\n",
        "X_test = data['testX'][:1000] * fac + 0.01\n",
        "Y_test = data['testY'][0][:1000]\n",
        "\n",
        "# Shuffle data in unison\n",
        "X_train, Y_train = sklearn.utils.shuffle(X_train, Y_train)\n",
        "X_test, Y_test = sklearn.utils.shuffle(X_test, Y_test)\n",
        "\n",
        "print(\"The shape of X_train is: \" + str(X_train.shape))\n",
        "print(\"The shape of Y_train is: \" + str(Y_train.shape))\n",
        "print(\"The shape of X_test is: \" + str(X_test.shape))\n",
        "print(\"The shape of Y_test is: \" + str(Y_test.shape))\n",
        "\n",
        "# Used to see the real data directly from data set\n",
        "def drawImg(sample):\n",
        "    fig, ax = plt.subplots(1)\n",
        "    ax.imshow(np.reshape(sample, (28, 28)))\n",
        "\n",
        "drawImg(X_train[0])\n",
        "print(\"\\nThe label at index 0 is \" + str(Y_train[0]) + \" and the image shows \")"
      ],
      "metadata": {
        "colab": {
          "base_uri": "https://localhost:8080/",
          "height": 369
        },
        "id": "7QYi-8HefeXs",
        "outputId": "34b46592-3b81-481d-d9d9-abd15c5fbd66"
      },
      "execution_count": 216,
      "outputs": [
        {
          "output_type": "stream",
          "name": "stdout",
          "text": [
            "The shape of X_train is: (10000, 784)\n",
            "The shape of Y_train is: (10000,)\n",
            "The shape of X_test is: (1000, 784)\n",
            "The shape of Y_test is: (1000,)\n",
            "\n",
            "The label at index 0 is 9 and the image shows \n"
          ]
        },
        {
          "output_type": "display_data",
          "data": {
            "text/plain": [
              "<Figure size 432x288 with 1 Axes>"
            ],
            "image/png": "[encoded data removed]"
          },
          "metadata": {
            "needs_background": "light"
          }
        }
      ]
    },
    {
      "cell_type": "code",
      "source": [
        "# PCA Implementation\n",
        "def fit(X, n_comp):\n",
        "  # Standardization\n",
        "  mean = np.mean(X, axis=0)\n",
        "  X = X - mean\n",
        "       \n",
        "  # Co-varience Matrix\n",
        "  cov_mat = np.cov(X.T)\n",
        "     \n",
        "  # Find Eigen values and Eigen Vectors\n",
        "  eig_vals, eig_vecs  = np.linalg.eig(cov_mat)\n",
        "  eigpairs = [(eig_vals[i], eig_vecs[:,i]) for i in range(len(eig_vals))]\n",
        "  eigpairs.sort(key=lambda x : x[0], reverse=True)\n",
        "     \n",
        "  # Create subspace\n",
        "  subspace = np.array([eigpairs[i][1] for i in range(n_comp)])\n",
        "\n",
        "  return subspace\n",
        "\n",
        "def transform(X, subspace, mean):\n",
        "  # Project data\n",
        "  X = X - mean\n",
        "  return np.dot(X, subspace.T)"
      ],
      "metadata": {
        "id": "aS1Jl_hQyUVW"
      },
      "execution_count": 217,
      "outputs": []
    },
    {
      "cell_type": "code",
      "source": [
        "M = 30\n",
        "subspace = fit(X_train, M)\n",
        "X_train_reduced  = transform(X_train, subspace, M)\n",
        "X_test_reduced  = transform(X_test, subspace, M)\n",
        "print(\"The shape of X_train_reduced  is: \" + str(X_train_reduced.shape))\n",
        "print(\"The shape of X_test_reduced  is: \" + str(X_test_reduced.shape))"
      ],
      "metadata": {
        "colab": {
          "base_uri": "https://localhost:8080/"
        },
        "id": "JUoGkhmC9g5j",
        "outputId": "e4c6a093-a48e-4713-d92d-c661db16eda5"
      },
      "execution_count": 218,
      "outputs": [
        {
          "output_type": "stream",
          "name": "stdout",
          "text": [
            "The shape of X_train_reduced  is: (10000, 30)\n",
            "The shape of X_test_reduced  is: (1000, 30)\n"
          ]
        }
      ]
    },
    {
      "cell_type": "code",
      "source": [
        "# Calculating Euclidean Distance\n",
        "def distance(x,y):\n",
        "    return np.sqrt(np.sum(np.square(x-y)))\n",
        "\n",
        "# Applying K-nearest Neighbours\n",
        "def knn(X_train, Y_train, X_test, k):\n",
        "    # List of distances between test image and training images\n",
        "    vals = []\n",
        "    len_train = X_train.shape[0]\n",
        "    \n",
        "    for i in range(len_train):\n",
        "      d = distance(X_test, X_train[i])\n",
        "      vals.append((d, Y_train[i]))\n",
        "        \n",
        "    vals = sorted(vals)\n",
        "    \n",
        "    # Find the nearest first k points\n",
        "    vals = vals[:k]\n",
        "    vals = np.array(vals)\n",
        "    \n",
        "    # Find the maximum one from the index\n",
        "    new_vals = np.unique(vals[:,1],return_counts = True)\n",
        "    index = new_vals[1].argmax() \n",
        "    pred = new_vals[0][index]\n",
        "\n",
        "    return pred"
      ],
      "metadata": {
        "id": "aYfEtvPQk7g0"
      },
      "execution_count": 219,
      "outputs": []
    },
    {
      "cell_type": "code",
      "source": [
        "# Calcuating Accuracy\n",
        "N = 1000\n",
        "K = 5\n",
        "def accuracy(X_train, Y_train, X_test, N, K):\n",
        "    correct = 0\n",
        "    incorrect = 0\n",
        "\n",
        "    # Loop through test set and compare labels\n",
        "    for i in range(N):\n",
        "        pred = int(knn(X_train, Y_train, X_test[i], K)) \n",
        "\n",
        "        #print(\"Expected: \" + str(Y_test[i]))\n",
        "        #print(\"Actual: \" + str(pred))\n",
        "\n",
        "        if pred == Y_test[i]:\n",
        "            correct += 1\n",
        "        else:\n",
        "            incorrect += 1\n",
        "\n",
        "    accuracy = (correct/float(N))*100\n",
        "\n",
        "    print(\"\\nCorrect: \" + str(correct))\n",
        "    print(\"Incorrect: \" + str(incorrect))  \n",
        "    print(\"Accuracy: \" + str(accuracy) + \"%\")\n",
        "\n",
        "    return accuracy\n",
        "\n",
        "accuracy(X_train_reduced, Y_train, X_test_reduced, N, K)"
      ],
      "metadata": {
        "colab": {
          "base_uri": "https://localhost:8080/"
        },
        "id": "yXZuIARmmSsR",
        "outputId": "b7979fb3-87f6-406e-b889-cef169afeb94"
      },
      "execution_count": 220,
      "outputs": [
        {
          "output_type": "stream",
          "name": "stderr",
          "text": [
            "/usr/local/lib/python3.7/dist-packages/ipykernel_launcher.py:10: ComplexWarning: Casting complex values to real discards the imaginary part\n",
            "  # Remove the CWD from sys.path while we load stuff.\n"
          ]
        },
        {
          "output_type": "stream",
          "name": "stdout",
          "text": [
            "\n",
            "Correct: 937\n",
            "Incorrect: 63\n",
            "Accuracy: 93.7%\n"
          ]
        },
        {
          "output_type": "execute_result",
          "data": {
            "text/plain": [
              "93.7"
            ]
          },
          "metadata": {},
          "execution_count": 220
        }
      ]
    },
    {
      "cell_type": "code",
      "source": [
        "# Accuracy with respect to principal components \n",
        "score = []\n",
        "for m in range(1, 31):\n",
        "  subspace = fit(X_train, m)\n",
        "  X_train_reduced  = transform(X_train, subspace, m)\n",
        "  X_test_reduced  = transform(X_test, subspace, m)\n",
        "  print('M =', m)\n",
        "  acc = float(accuracy(X_train_reduced, Y_train, X_test_reduced, N, 5))\n",
        "  score.append(acc)\n",
        "  print(\"\\n---------------\\n\")"
      ],
      "metadata": {
        "colab": {
          "base_uri": "https://localhost:8080/",
          "height": 432
        },
        "id": "WoIU-EAnFYYw",
        "outputId": "92312625-305b-49d0-c9a4-f13bc006bf4e"
      },
      "execution_count": 221,
      "outputs": [
        {
          "output_type": "stream",
          "name": "stdout",
          "text": [
            "M = 1\n"
          ]
        },
        {
          "output_type": "stream",
          "name": "stderr",
          "text": [
            "/usr/local/lib/python3.7/dist-packages/ipykernel_launcher.py:10: ComplexWarning: Casting complex values to real discards the imaginary part\n",
            "  # Remove the CWD from sys.path while we load stuff.\n"
          ]
        },
        {
          "output_type": "error",
          "ename": "KeyboardInterrupt",
          "evalue": "ignored",
          "traceback": [
            "\u001b[0;31m---------------------------------------------------------------------------\u001b[0m",
            "\u001b[0;31mKeyboardInterrupt\u001b[0m                         Traceback (most recent call last)",
            "\u001b[0;32m<ipython-input-221-a107f91f8985>\u001b[0m in \u001b[0;36m<module>\u001b[0;34m\u001b[0m\n\u001b[1;32m      6\u001b[0m   \u001b[0mX_test_reduced\u001b[0m  \u001b[0;34m=\u001b[0m \u001b[0mtransform\u001b[0m\u001b[0;34m(\u001b[0m\u001b[0mX_test\u001b[0m\u001b[0;34m,\u001b[0m \u001b[0msubspace\u001b[0m\u001b[0;34m,\u001b[0m \u001b[0mm\u001b[0m\u001b[0;34m)\u001b[0m\u001b[0;34m\u001b[0m\u001b[0;34m\u001b[0m\u001b[0m\n\u001b[1;32m      7\u001b[0m   \u001b[0mprint\u001b[0m\u001b[0;34m(\u001b[0m\u001b[0;34m'M ='\u001b[0m\u001b[0;34m,\u001b[0m \u001b[0mm\u001b[0m\u001b[0;34m)\u001b[0m\u001b[0;34m\u001b[0m\u001b[0;34m\u001b[0m\u001b[0m\n\u001b[0;32m----> 8\u001b[0;31m   \u001b[0macc\u001b[0m \u001b[0;34m=\u001b[0m \u001b[0mfloat\u001b[0m\u001b[0;34m(\u001b[0m\u001b[0maccuracy\u001b[0m\u001b[0;34m(\u001b[0m\u001b[0mX_train_reduced\u001b[0m\u001b[0;34m,\u001b[0m \u001b[0mY_train\u001b[0m\u001b[0;34m,\u001b[0m \u001b[0mX_test_reduced\u001b[0m\u001b[0;34m,\u001b[0m \u001b[0mN\u001b[0m\u001b[0;34m,\u001b[0m \u001b[0;36m5\u001b[0m\u001b[0;34m)\u001b[0m\u001b[0;34m)\u001b[0m\u001b[0;34m\u001b[0m\u001b[0;34m\u001b[0m\u001b[0m\n\u001b[0m\u001b[1;32m      9\u001b[0m   \u001b[0mscore\u001b[0m\u001b[0;34m.\u001b[0m\u001b[0mappend\u001b[0m\u001b[0;34m(\u001b[0m\u001b[0macc\u001b[0m\u001b[0;34m)\u001b[0m\u001b[0;34m\u001b[0m\u001b[0;34m\u001b[0m\u001b[0m\n\u001b[1;32m     10\u001b[0m   \u001b[0mprint\u001b[0m\u001b[0;34m(\u001b[0m\u001b[0;34m\"\\n---------------\\n\"\u001b[0m\u001b[0;34m)\u001b[0m\u001b[0;34m\u001b[0m\u001b[0;34m\u001b[0m\u001b[0m\n",
            "\u001b[0;32m<ipython-input-220-7dd3aec9e8a7>\u001b[0m in \u001b[0;36maccuracy\u001b[0;34m(X_train, Y_train, X_test, N, K)\u001b[0m\n\u001b[1;32m      8\u001b[0m     \u001b[0;31m# Loop through test set and compare labels\u001b[0m\u001b[0;34m\u001b[0m\u001b[0;34m\u001b[0m\u001b[0;34m\u001b[0m\u001b[0m\n\u001b[1;32m      9\u001b[0m     \u001b[0;32mfor\u001b[0m \u001b[0mi\u001b[0m \u001b[0;32min\u001b[0m \u001b[0mrange\u001b[0m\u001b[0;34m(\u001b[0m\u001b[0mN\u001b[0m\u001b[0;34m)\u001b[0m\u001b[0;34m:\u001b[0m\u001b[0;34m\u001b[0m\u001b[0;34m\u001b[0m\u001b[0m\n\u001b[0;32m---> 10\u001b[0;31m         \u001b[0mpred\u001b[0m \u001b[0;34m=\u001b[0m \u001b[0mint\u001b[0m\u001b[0;34m(\u001b[0m\u001b[0mknn\u001b[0m\u001b[0;34m(\u001b[0m\u001b[0mX_train\u001b[0m\u001b[0;34m,\u001b[0m \u001b[0mY_train\u001b[0m\u001b[0;34m,\u001b[0m \u001b[0mX_test\u001b[0m\u001b[0;34m[\u001b[0m\u001b[0mi\u001b[0m\u001b[0;34m]\u001b[0m\u001b[0;34m,\u001b[0m \u001b[0mK\u001b[0m\u001b[0;34m)\u001b[0m\u001b[0;34m)\u001b[0m\u001b[0;34m\u001b[0m\u001b[0;34m\u001b[0m\u001b[0m\n\u001b[0m\u001b[1;32m     11\u001b[0m \u001b[0;34m\u001b[0m\u001b[0m\n\u001b[1;32m     12\u001b[0m         \u001b[0;31m#print(\"Expected: \" + str(Y_test[i]))\u001b[0m\u001b[0;34m\u001b[0m\u001b[0;34m\u001b[0m\u001b[0;34m\u001b[0m\u001b[0m\n",
            "\u001b[0;32m<ipython-input-219-0f8c6fa089c2>\u001b[0m in \u001b[0;36mknn\u001b[0;34m(X_train, Y_train, X_test, k)\u001b[0m\n\u001b[1;32m     10\u001b[0m \u001b[0;34m\u001b[0m\u001b[0m\n\u001b[1;32m     11\u001b[0m     \u001b[0;32mfor\u001b[0m \u001b[0mi\u001b[0m \u001b[0;32min\u001b[0m \u001b[0mrange\u001b[0m\u001b[0;34m(\u001b[0m\u001b[0mlen_train\u001b[0m\u001b[0;34m)\u001b[0m\u001b[0;34m:\u001b[0m\u001b[0;34m\u001b[0m\u001b[0;34m\u001b[0m\u001b[0m\n\u001b[0;32m---> 12\u001b[0;31m       \u001b[0md\u001b[0m \u001b[0;34m=\u001b[0m \u001b[0mdistance\u001b[0m\u001b[0;34m(\u001b[0m\u001b[0mX_test\u001b[0m\u001b[0;34m,\u001b[0m \u001b[0mX_train\u001b[0m\u001b[0;34m[\u001b[0m\u001b[0mi\u001b[0m\u001b[0;34m]\u001b[0m\u001b[0;34m)\u001b[0m\u001b[0;34m\u001b[0m\u001b[0;34m\u001b[0m\u001b[0m\n\u001b[0m\u001b[1;32m     13\u001b[0m       \u001b[0mvals\u001b[0m\u001b[0;34m.\u001b[0m\u001b[0mappend\u001b[0m\u001b[0;34m(\u001b[0m\u001b[0;34m(\u001b[0m\u001b[0md\u001b[0m\u001b[0;34m,\u001b[0m \u001b[0mY_train\u001b[0m\u001b[0;34m[\u001b[0m\u001b[0mi\u001b[0m\u001b[0;34m]\u001b[0m\u001b[0;34m)\u001b[0m\u001b[0;34m)\u001b[0m\u001b[0;34m\u001b[0m\u001b[0;34m\u001b[0m\u001b[0m\n\u001b[1;32m     14\u001b[0m \u001b[0;34m\u001b[0m\u001b[0m\n",
            "\u001b[0;32m<ipython-input-219-0f8c6fa089c2>\u001b[0m in \u001b[0;36mdistance\u001b[0;34m(x, y)\u001b[0m\n\u001b[1;32m      1\u001b[0m \u001b[0;31m# Calculating Euclidean Distance\u001b[0m\u001b[0;34m\u001b[0m\u001b[0;34m\u001b[0m\u001b[0;34m\u001b[0m\u001b[0m\n\u001b[1;32m      2\u001b[0m \u001b[0;32mdef\u001b[0m \u001b[0mdistance\u001b[0m\u001b[0;34m(\u001b[0m\u001b[0mx\u001b[0m\u001b[0;34m,\u001b[0m\u001b[0my\u001b[0m\u001b[0;34m)\u001b[0m\u001b[0;34m:\u001b[0m\u001b[0;34m\u001b[0m\u001b[0;34m\u001b[0m\u001b[0m\n\u001b[0;32m----> 3\u001b[0;31m     \u001b[0;32mreturn\u001b[0m \u001b[0mnp\u001b[0m\u001b[0;34m.\u001b[0m\u001b[0msqrt\u001b[0m\u001b[0;34m(\u001b[0m\u001b[0mnp\u001b[0m\u001b[0;34m.\u001b[0m\u001b[0msum\u001b[0m\u001b[0;34m(\u001b[0m\u001b[0mnp\u001b[0m\u001b[0;34m.\u001b[0m\u001b[0msquare\u001b[0m\u001b[0;34m(\u001b[0m\u001b[0mx\u001b[0m\u001b[0;34m-\u001b[0m\u001b[0my\u001b[0m\u001b[0;34m)\u001b[0m\u001b[0;34m)\u001b[0m\u001b[0;34m)\u001b[0m\u001b[0;34m\u001b[0m\u001b[0;34m\u001b[0m\u001b[0m\n\u001b[0m\u001b[1;32m      4\u001b[0m \u001b[0;34m\u001b[0m\u001b[0m\n\u001b[1;32m      5\u001b[0m \u001b[0;31m# Applying K-nearest Neighbours\u001b[0m\u001b[0;34m\u001b[0m\u001b[0;34m\u001b[0m\u001b[0;34m\u001b[0m\u001b[0m\n",
            "\u001b[0;31mKeyboardInterrupt\u001b[0m: "
          ]
        }
      ]
    },
    {
      "cell_type": "code",
      "source": [
        "# Graph\n",
        "plt.plot(range(1, 31), score, marker='x')\n",
        "plt.title('NN in PCA Space')\n",
        "plt.xlabel('Number of Principal Components')\n",
        "plt.ylabel('Accuracy (in % correctly classified')\n",
        "plt.savefig('nn_pca.png', dpi=300)\n",
        "plt.show()"
      ],
      "metadata": {
        "id": "myUcRV6gFV_K"
      },
      "execution_count": null,
      "outputs": []
    }
  ]
}