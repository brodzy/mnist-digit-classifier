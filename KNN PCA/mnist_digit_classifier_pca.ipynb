{
  "nbformat": 4,
  "nbformat_minor": 0,
  "metadata": {
    "colab": {
      "provenance": []
    },
    "kernelspec": {
      "name": "python3",
      "display_name": "Python 3"
    },
    "language_info": {
      "name": "python"
    }
  },
  "cells": [
    {
      "cell_type": "code",
      "source": [
        "import scipy.io as sio\n",
        "import numpy as np\n",
        "import matplotlib.pyplot as plt\n",
        "import collections\n",
        "from google.colab import files\n",
        "import sklearn # Only using to shuffle data\n",
        "\n",
        "# Load data\n",
        "!wget https://github.com/daniel-e/mnist_octave/raw/master/mnist.mat\n",
        "data = sio.loadmat('mnist.mat')"
      ],
      "metadata": {
        "colab": {
          "base_uri": "https://localhost:8080/"
        },
        "id": "qmgJJXbefdAt",
        "outputId": "629ba09d-1c57-45db-b108-632fdad6e013"
      },
      "execution_count": 1,
      "outputs": [
        {
          "output_type": "stream",
          "name": "stdout",
          "text": [
            "--2023-01-10 18:42:09--  https://github.com/daniel-e/mnist_octave/raw/master/mnist.mat\n",
            "Resolving github.com (github.com)... 140.82.113.3\n",
            "Connecting to github.com (github.com)|140.82.113.3|:443... connected.\n",
            "HTTP request sent, awaiting response... 302 Found\n",
            "Location: https://raw.githubusercontent.com/daniel-e/mnist_octave/master/mnist.mat [following]\n",
            "--2023-01-10 18:42:09--  https://raw.githubusercontent.com/daniel-e/mnist_octave/master/mnist.mat\n",
            "Resolving raw.githubusercontent.com (raw.githubusercontent.com)... 185.199.108.133, 185.199.109.133, 185.199.110.133, ...\n",
            "Connecting to raw.githubusercontent.com (raw.githubusercontent.com)|185.199.108.133|:443... connected.\n",
            "HTTP request sent, awaiting response... 200 OK\n",
            "Length: 14278089 (14M) [application/octet-stream]\n",
            "Saving to: ‘mnist.mat’\n",
            "\n",
            "mnist.mat           100%[===================>]  13.62M  --.-KB/s    in 0.07s   \n",
            "\n",
            "2023-01-10 18:42:09 (201 MB/s) - ‘mnist.mat’ saved [14278089/14278089]\n",
            "\n"
          ]
        }
      ]
    },
    {
      "cell_type": "code",
      "source": [
        "# Avoiding 0 values which could prevent weight updates\n",
        "fac = 0.99 / 255\n",
        "X_train = data['trainX'][:10000] * fac + 0.01\n",
        "Y_train = data['trainY'][0][:10000]\n",
        "\n",
        "X_test = data['testX'][:1000] * fac + 0.01\n",
        "Y_test = data['testY'][0][:1000]\n",
        "\n",
        "# Shuffle data in unison\n",
        "X_train, Y_train = sklearn.utils.shuffle(X_train, Y_train)\n",
        "X_test, Y_test = sklearn.utils.shuffle(X_test, Y_test)\n",
        "\n",
        "print(\"The shape of X_train is: \" + str(X_train.shape))\n",
        "print(\"The shape of Y_train is: \" + str(Y_train.shape))\n",
        "print(\"The shape of X_test is: \" + str(X_test.shape))\n",
        "print(\"The shape of Y_test is: \" + str(Y_test.shape))\n",
        "\n",
        "# Used to see the real data directly from data set\n",
        "def drawImg(sample):\n",
        "    fig, ax = plt.subplots(1)\n",
        "    ax.imshow(np.reshape(sample, (28, 28)))\n",
        "\n",
        "drawImg(X_train[0])\n",
        "print(\"\\nThe label at index 0 is \" + str(Y_train[0]) + \" and the image shows \")"
      ],
      "metadata": {
        "colab": {
          "base_uri": "https://localhost:8080/",
          "height": 369
        },
        "id": "7QYi-8HefeXs",
        "outputId": "89523ed6-8359-4917-b88f-293a0592b139"
      },
      "execution_count": 2,
      "outputs": [
        {
          "output_type": "stream",
          "name": "stdout",
          "text": [
            "The shape of X_train is: (10000, 784)\n",
            "The shape of Y_train is: (10000,)\n",
            "The shape of X_test is: (1000, 784)\n",
            "The shape of Y_test is: (1000,)\n",
            "\n",
            "The label at index 0 is 4 and the image shows \n"
          ]
        },
        {
          "output_type": "display_data",
          "data": {
            "text/plain": [
              "<Figure size 432x288 with 1 Axes>"
            ],
            "image/png": "[encoded data removed]"
          },
          "metadata": {
            "needs_background": "light"
          }
        }
      ]
    },
    {
      "cell_type": "code",
      "source": [
        "# PCA Implementation\n",
        "def fit(X, n_comp):\n",
        "  # Standardization\n",
        "  mean = np.mean(X, axis=0)\n",
        "  X = X - mean\n",
        "       \n",
        "  # Co-varience Matrix\n",
        "  cov_mat = np.cov(X.T)\n",
        "     \n",
        "  # Find Eigen values and Eigen Vectors\n",
        "  eig_vals, eig_vecs  = np.linalg.eig(cov_mat)\n",
        "  eigpairs = [(eig_vals[i], eig_vecs[:,i]) for i in range(len(eig_vals))]\n",
        "  eigpairs.sort(key=lambda x : x[0], reverse=True)\n",
        "     \n",
        "  # Create subspace\n",
        "  subspace = np.array([eigpairs[i][1] for i in range(n_comp)])\n",
        "\n",
        "  return subspace\n",
        "\n",
        "def transform(X, subspace, mean):\n",
        "  # Project data\n",
        "  X = X - mean\n",
        "  return np.dot(X, subspace.T)"
      ],
      "metadata": {
        "id": "aS1Jl_hQyUVW"
      },
      "execution_count": 3,
      "outputs": []
    },
    {
      "cell_type": "code",
      "source": [
        "M = 30\n",
        "subspace = fit(X_train, M)\n",
        "X_train_reduced  = transform(X_train, subspace, M)\n",
        "X_test_reduced  = transform(X_test, subspace, M)\n",
        "print(\"The shape of X_train_reduced  is: \" + str(X_train_reduced.shape))\n",
        "print(\"The shape of X_test_reduced  is: \" + str(X_test_reduced.shape))"
      ],
      "metadata": {
        "colab": {
          "base_uri": "https://localhost:8080/"
        },
        "id": "JUoGkhmC9g5j",
        "outputId": "9a3c32dc-6ae1-4945-b39a-dbae38464716"
      },
      "execution_count": 4,
      "outputs": [
        {
          "output_type": "stream",
          "name": "stdout",
          "text": [
            "The shape of X_train_reduced  is: (10000, 30)\n",
            "The shape of X_test_reduced  is: (1000, 30)\n"
          ]
        }
      ]
    },
    {
      "cell_type": "code",
      "source": [
        "# Calculating Euclidean Distance\n",
        "def distance(x,y):\n",
        "    return np.sqrt(np.sum(np.square(x-y)))\n",
        "\n",
        "# Applying K-nearest Neighbours\n",
        "def knn(X_train, Y_train, X_test, k):\n",
        "    # List of distances between test image and training images\n",
        "    vals = []\n",
        "    len_train = X_train.shape[0]\n",
        "    \n",
        "    for i in range(len_train):\n",
        "      d = distance(X_test, X_train[i])\n",
        "      vals.append((d, Y_train[i]))\n",
        "        \n",
        "    vals = sorted(vals)\n",
        "    \n",
        "    # Find the nearest first k points\n",
        "    vals = vals[:k]\n",
        "    vals = np.array(vals)\n",
        "    \n",
        "    # Find the maximum one from the index\n",
        "    new_vals = np.unique(vals[:,1],return_counts = True)\n",
        "    index = new_vals[1].argmax() \n",
        "    pred = new_vals[0][index]\n",
        "\n",
        "    return pred"
      ],
      "metadata": {
        "id": "aYfEtvPQk7g0"
      },
      "execution_count": 5,
      "outputs": []
    },
    {
      "cell_type": "code",
      "source": [
        "# Calcuating Accuracy\n",
        "N = 1000\n",
        "K = 5\n",
        "def accuracy(X_train, Y_train, X_test, N, K):\n",
        "    correct = 0\n",
        "    incorrect = 0\n",
        "\n",
        "    # Loop through test set and compare labels\n",
        "    for i in range(N):\n",
        "        pred = int(knn(X_train, Y_train, X_test[i], K)) \n",
        "\n",
        "        #print(\"Expected: \" + str(Y_test[i]))\n",
        "        #print(\"Actual: \" + str(pred))\n",
        "\n",
        "        if pred == Y_test[i]:\n",
        "            correct += 1\n",
        "        else:\n",
        "            incorrect += 1\n",
        "\n",
        "    accuracy = (correct/float(N))*100\n",
        "\n",
        "    print(\"\\nCorrect: \" + str(correct))\n",
        "    print(\"Incorrect: \" + str(incorrect))  \n",
        "    print(\"Accuracy: \" + str(accuracy) + \"%\")\n",
        "\n",
        "    return accuracy\n",
        "\n",
        "accuracy(X_train_reduced, Y_train, X_test_reduced, N, K)"
      ],
      "metadata": {
        "colab": {
          "base_uri": "https://localhost:8080/"
        },
        "id": "yXZuIARmmSsR",
        "outputId": "f72ef2f7-34a5-4995-cd8d-9d97ee99b1cf"
      },
      "execution_count": 6,
      "outputs": [
        {
          "output_type": "stream",
          "name": "stderr",
          "text": [
            "<ipython-input-6-7dd3aec9e8a7>:10: ComplexWarning: Casting complex values to real discards the imaginary part\n",
            "  pred = int(knn(X_train, Y_train, X_test[i], K))\n"
          ]
        },
        {
          "output_type": "stream",
          "name": "stdout",
          "text": [
            "\n",
            "Correct: 937\n",
            "Incorrect: 63\n",
            "Accuracy: 93.7%\n"
          ]
        },
        {
          "output_type": "execute_result",
          "data": {
            "text/plain": [
              "93.7"
            ]
          },
          "metadata": {},
          "execution_count": 6
        }
      ]
    },
    {
      "cell_type": "code",
      "source": [
        "# Accuracy with respect to principal components \n",
        "score = []\n",
        "for m in range(1, 31):\n",
        "  subspace = fit(X_train, m)\n",
        "  X_train_reduced  = transform(X_train, subspace, m)\n",
        "  X_test_reduced  = transform(X_test, subspace, m)\n",
        "  print('M =', m)\n",
        "  acc = float(accuracy(X_train_reduced, Y_train, X_test_reduced, N, 5))\n",
        "  score.append(acc)\n",
        "  print(\"\\n---------------\\n\")"
      ],
      "metadata": {
        "colab": {
          "base_uri": "https://localhost:8080/"
        },
        "id": "WoIU-EAnFYYw",
        "outputId": "50874512-6b62-4bd6-98ff-3e8b87d24cae"
      },
      "execution_count": 7,
      "outputs": [
        {
          "output_type": "stream",
          "name": "stdout",
          "text": [
            "M = 1\n"
          ]
        },
        {
          "output_type": "stream",
          "name": "stderr",
          "text": [
            "<ipython-input-6-7dd3aec9e8a7>:10: ComplexWarning: Casting complex values to real discards the imaginary part\n",
            "  pred = int(knn(X_train, Y_train, X_test[i], K))\n"
          ]
        },
        {
          "output_type": "stream",
          "name": "stdout",
          "text": [
            "\n",
            "Correct: 273\n",
            "Incorrect: 727\n",
            "Accuracy: 27.3%\n",
            "\n",
            "---------------\n",
            "\n",
            "M = 2\n",
            "\n",
            "Correct: 426\n",
            "Incorrect: 574\n",
            "Accuracy: 42.6%\n",
            "\n",
            "---------------\n",
            "\n",
            "M = 3\n",
            "\n",
            "Correct: 491\n",
            "Incorrect: 509\n",
            "Accuracy: 49.1%\n",
            "\n",
            "---------------\n",
            "\n",
            "M = 4\n",
            "\n",
            "Correct: 616\n",
            "Incorrect: 384\n",
            "Accuracy: 61.6%\n",
            "\n",
            "---------------\n",
            "\n",
            "M = 5\n",
            "\n",
            "Correct: 708\n",
            "Incorrect: 292\n",
            "Accuracy: 70.8%\n",
            "\n",
            "---------------\n",
            "\n",
            "M = 6\n",
            "\n",
            "Correct: 777\n",
            "Incorrect: 223\n",
            "Accuracy: 77.7%\n",
            "\n",
            "---------------\n",
            "\n",
            "M = 7\n",
            "\n",
            "Correct: 843\n",
            "Incorrect: 157\n",
            "Accuracy: 84.3%\n",
            "\n",
            "---------------\n",
            "\n",
            "M = 8\n",
            "\n",
            "Correct: 873\n",
            "Incorrect: 127\n",
            "Accuracy: 87.3%\n",
            "\n",
            "---------------\n",
            "\n",
            "M = 9\n",
            "\n",
            "Correct: 885\n",
            "Incorrect: 115\n",
            "Accuracy: 88.5%\n",
            "\n",
            "---------------\n",
            "\n",
            "M = 10\n",
            "\n",
            "Correct: 885\n",
            "Incorrect: 115\n",
            "Accuracy: 88.5%\n",
            "\n",
            "---------------\n",
            "\n",
            "M = 11\n",
            "\n",
            "Correct: 894\n",
            "Incorrect: 106\n",
            "Accuracy: 89.4%\n",
            "\n",
            "---------------\n",
            "\n",
            "M = 12\n",
            "\n",
            "Correct: 913\n",
            "Incorrect: 87\n",
            "Accuracy: 91.3%\n",
            "\n",
            "---------------\n",
            "\n",
            "M = 13\n",
            "\n",
            "Correct: 917\n",
            "Incorrect: 83\n",
            "Accuracy: 91.7%\n",
            "\n",
            "---------------\n",
            "\n",
            "M = 14\n",
            "\n",
            "Correct: 921\n",
            "Incorrect: 79\n",
            "Accuracy: 92.10000000000001%\n",
            "\n",
            "---------------\n",
            "\n",
            "M = 15\n",
            "\n",
            "Correct: 921\n",
            "Incorrect: 79\n",
            "Accuracy: 92.10000000000001%\n",
            "\n",
            "---------------\n",
            "\n",
            "M = 16\n",
            "\n",
            "Correct: 925\n",
            "Incorrect: 75\n",
            "Accuracy: 92.5%\n",
            "\n",
            "---------------\n",
            "\n",
            "M = 17\n",
            "\n",
            "Correct: 929\n",
            "Incorrect: 71\n",
            "Accuracy: 92.9%\n",
            "\n",
            "---------------\n",
            "\n",
            "M = 18\n",
            "\n",
            "Correct: 936\n",
            "Incorrect: 64\n",
            "Accuracy: 93.60000000000001%\n",
            "\n",
            "---------------\n",
            "\n",
            "M = 19\n",
            "\n",
            "Correct: 939\n",
            "Incorrect: 61\n",
            "Accuracy: 93.89999999999999%\n",
            "\n",
            "---------------\n",
            "\n",
            "M = 20\n",
            "\n",
            "Correct: 939\n",
            "Incorrect: 61\n",
            "Accuracy: 93.89999999999999%\n",
            "\n",
            "---------------\n",
            "\n",
            "M = 21\n",
            "\n",
            "Correct: 939\n",
            "Incorrect: 61\n",
            "Accuracy: 93.89999999999999%\n",
            "\n",
            "---------------\n",
            "\n",
            "M = 22\n",
            "\n",
            "Correct: 941\n",
            "Incorrect: 59\n",
            "Accuracy: 94.1%\n",
            "\n",
            "---------------\n",
            "\n",
            "M = 23\n",
            "\n",
            "Correct: 937\n",
            "Incorrect: 63\n",
            "Accuracy: 93.7%\n",
            "\n",
            "---------------\n",
            "\n",
            "M = 24\n",
            "\n",
            "Correct: 936\n",
            "Incorrect: 64\n",
            "Accuracy: 93.60000000000001%\n",
            "\n",
            "---------------\n",
            "\n",
            "M = 25\n",
            "\n",
            "Correct: 937\n",
            "Incorrect: 63\n",
            "Accuracy: 93.7%\n",
            "\n",
            "---------------\n",
            "\n",
            "M = 26\n",
            "\n",
            "Correct: 935\n",
            "Incorrect: 65\n",
            "Accuracy: 93.5%\n",
            "\n",
            "---------------\n",
            "\n",
            "M = 27\n",
            "\n",
            "Correct: 933\n",
            "Incorrect: 67\n",
            "Accuracy: 93.30000000000001%\n",
            "\n",
            "---------------\n",
            "\n",
            "M = 28\n",
            "\n",
            "Correct: 932\n",
            "Incorrect: 68\n",
            "Accuracy: 93.2%\n",
            "\n",
            "---------------\n",
            "\n",
            "M = 29\n",
            "\n",
            "Correct: 938\n",
            "Incorrect: 62\n",
            "Accuracy: 93.8%\n",
            "\n",
            "---------------\n",
            "\n",
            "M = 30\n",
            "\n",
            "Correct: 937\n",
            "Incorrect: 63\n",
            "Accuracy: 93.7%\n",
            "\n",
            "---------------\n",
            "\n"
          ]
        }
      ]
    },
    {
      "cell_type": "code",
      "source": [
        "# Graph\n",
        "plt.plot(range(1, 31), score, marker='x')\n",
        "plt.title('NN in PCA Space')\n",
        "plt.xlabel('Number of Principal Components')\n",
        "plt.ylabel('Accuracy (in % correctly classified')\n",
        "plt.savefig('nn_pca.png', dpi=300)\n",
        "plt.show()"
      ],
      "metadata": {
        "id": "myUcRV6gFV_K",
        "colab": {
          "base_uri": "https://localhost:8080/",
          "height": 295
        },
        "outputId": "bc36f2a4-4348-430b-9285-60e34d954b73"
      },
      "execution_count": 8,
      "outputs": [
        {
          "output_type": "display_data",
          "data": {
            "text/plain": [
              "<Figure size 432x288 with 1 Axes>"
            ],
            "image/png": "[encoded data removed]"
          },
          "metadata": {
            "needs_background": "light"
          }
        }
      ]
    }
  ]
}